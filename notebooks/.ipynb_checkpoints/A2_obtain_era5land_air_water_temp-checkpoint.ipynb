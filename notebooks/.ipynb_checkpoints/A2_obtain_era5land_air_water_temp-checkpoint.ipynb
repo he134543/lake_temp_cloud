{
 "cells": [
  {
   "cell_type": "code",
   "execution_count": 1,
   "id": "8d0a1dc7-10e5-4e95-a879-1087da49df7f",
   "metadata": {
    "tags": []
   },
   "outputs": [],
   "source": [
    "import pandas as pd\n",
    "import numpy as np\n",
    "import matplotlib.pyplot as plt\n",
    "import os\n",
    "import glob\n",
    "import ee\n",
    "import geemap"
   ]
  },
  {
   "cell_type": "code",
   "execution_count": 2,
   "id": "675415be-84e0-4bbe-a4fe-79e599c2a768",
   "metadata": {
    "tags": []
   },
   "outputs": [
    {
     "data": {
      "text/html": [
       "\n",
       "            <style>\n",
       "                .geemap-dark {\n",
       "                    --jp-widgets-color: white;\n",
       "                    --jp-widgets-label-color: white;\n",
       "                    --jp-ui-font-color1: white;\n",
       "                    --jp-layout-color2: #454545;\n",
       "                    background-color: #383838;\n",
       "                }\n",
       "\n",
       "                .geemap-dark .jupyter-button {\n",
       "                    --jp-layout-color3: #383838;\n",
       "                }\n",
       "\n",
       "                .geemap-colab {\n",
       "                    background-color: var(--colab-primary-surface-color, white);\n",
       "                }\n",
       "\n",
       "                .geemap-colab .jupyter-button {\n",
       "                    --jp-layout-color3: var(--colab-primary-surface-color, white);\n",
       "                }\n",
       "            </style>\n",
       "            "
      ],
      "text/plain": [
       "<IPython.core.display.HTML object>"
      ]
     },
     "metadata": {},
     "output_type": "display_data"
    }
   ],
   "source": [
    "ee.Authenticate()\n",
    "ee.Initialize(project=\"ee-sarice\")"
   ]
  },
  {
   "cell_type": "code",
   "execution_count": 3,
   "id": "0a465fc0-67c8-4f01-8efb-0de1d99c2e61",
   "metadata": {
    "tags": []
   },
   "outputs": [
    {
     "data": {
      "text/html": [
       "\n",
       "            <style>\n",
       "                .geemap-dark {\n",
       "                    --jp-widgets-color: white;\n",
       "                    --jp-widgets-label-color: white;\n",
       "                    --jp-ui-font-color1: white;\n",
       "                    --jp-layout-color2: #454545;\n",
       "                    background-color: #383838;\n",
       "                }\n",
       "\n",
       "                .geemap-dark .jupyter-button {\n",
       "                    --jp-layout-color3: #383838;\n",
       "                }\n",
       "\n",
       "                .geemap-colab {\n",
       "                    background-color: var(--colab-primary-surface-color, white);\n",
       "                }\n",
       "\n",
       "                .geemap-colab .jupyter-button {\n",
       "                    --jp-layout-color3: var(--colab-primary-surface-color, white);\n",
       "                }\n",
       "            </style>\n",
       "            "
      ],
      "text/plain": [
       "<IPython.core.display.HTML object>"
      ]
     },
     "metadata": {},
     "output_type": "display_data"
    }
   ],
   "source": [
    "cci_lakes = ee.FeatureCollection(\"projects/ee-sarice/assets/CCI_Lakes\")"
   ]
  },
  {
   "cell_type": "code",
   "execution_count": 4,
   "id": "ca4cf478-fcb0-46f4-b3b1-d56511a70433",
   "metadata": {
    "tags": []
   },
   "outputs": [
    {
     "data": {
      "text/html": [
       "\n",
       "            <style>\n",
       "                .geemap-dark {\n",
       "                    --jp-widgets-color: white;\n",
       "                    --jp-widgets-label-color: white;\n",
       "                    --jp-ui-font-color1: white;\n",
       "                    --jp-layout-color2: #454545;\n",
       "                    background-color: #383838;\n",
       "                }\n",
       "\n",
       "                .geemap-dark .jupyter-button {\n",
       "                    --jp-layout-color3: #383838;\n",
       "                }\n",
       "\n",
       "                .geemap-colab {\n",
       "                    background-color: var(--colab-primary-surface-color, white);\n",
       "                }\n",
       "\n",
       "                .geemap-colab .jupyter-button {\n",
       "                    --jp-layout-color3: var(--colab-primary-surface-color, white);\n",
       "                }\n",
       "            </style>\n",
       "            "
      ],
      "text/plain": [
       "<IPython.core.display.HTML object>"
      ]
     },
     "metadata": {},
     "output_type": "display_data"
    }
   ],
   "source": [
    "years = list(range(2000, 2024))"
   ]
  },
  {
   "cell_type": "code",
   "execution_count": 5,
   "id": "c4456e83-5eb4-46d3-b9bb-ec664f69c0a7",
   "metadata": {
    "tags": []
   },
   "outputs": [
    {
     "data": {
      "text/html": [
       "\n",
       "            <style>\n",
       "                .geemap-dark {\n",
       "                    --jp-widgets-color: white;\n",
       "                    --jp-widgets-label-color: white;\n",
       "                    --jp-ui-font-color1: white;\n",
       "                    --jp-layout-color2: #454545;\n",
       "                    background-color: #383838;\n",
       "                }\n",
       "\n",
       "                .geemap-dark .jupyter-button {\n",
       "                    --jp-layout-color3: #383838;\n",
       "                }\n",
       "\n",
       "                .geemap-colab {\n",
       "                    background-color: var(--colab-primary-surface-color, white);\n",
       "                }\n",
       "\n",
       "                .geemap-colab .jupyter-button {\n",
       "                    --jp-layout-color3: var(--colab-primary-surface-color, white);\n",
       "                }\n",
       "            </style>\n",
       "            "
      ],
      "text/plain": [
       "<IPython.core.display.HTML object>"
      ]
     },
     "metadata": {},
     "output_type": "display_data"
    }
   ],
   "source": [
    "cci_lake_ids = cci_lakes.aggregate_array(\"CCI ID\").getInfo()"
   ]
  },
  {
   "cell_type": "code",
   "execution_count": 6,
   "id": "d2b92a40-5b9c-4487-adde-a1b662d3ddeb",
   "metadata": {
    "tags": []
   },
   "outputs": [
    {
     "data": {
      "text/html": [
       "\n",
       "            <style>\n",
       "                .geemap-dark {\n",
       "                    --jp-widgets-color: white;\n",
       "                    --jp-widgets-label-color: white;\n",
       "                    --jp-ui-font-color1: white;\n",
       "                    --jp-layout-color2: #454545;\n",
       "                    background-color: #383838;\n",
       "                }\n",
       "\n",
       "                .geemap-dark .jupyter-button {\n",
       "                    --jp-layout-color3: #383838;\n",
       "                }\n",
       "\n",
       "                .geemap-colab {\n",
       "                    background-color: var(--colab-primary-surface-color, white);\n",
       "                }\n",
       "\n",
       "                .geemap-colab .jupyter-button {\n",
       "                    --jp-layout-color3: var(--colab-primary-surface-color, white);\n",
       "                }\n",
       "            </style>\n",
       "            "
      ],
      "text/plain": [
       "<IPython.core.display.HTML object>"
      ]
     },
     "metadata": {},
     "output_type": "display_data"
    }
   ],
   "source": [
    "out_dir = \"/nas/cee-hydro/laketemp_bias/era5land/raw\""
   ]
  },
  {
   "cell_type": "code",
   "execution_count": null,
   "id": "a492f128-d29b-4bee-a311-63ecc4565546",
   "metadata": {
    "tags": []
   },
   "outputs": [
    {
     "data": {
      "text/html": [
       "\n",
       "            <style>\n",
       "                .geemap-dark {\n",
       "                    --jp-widgets-color: white;\n",
       "                    --jp-widgets-label-color: white;\n",
       "                    --jp-ui-font-color1: white;\n",
       "                    --jp-layout-color2: #454545;\n",
       "                    background-color: #383838;\n",
       "                }\n",
       "\n",
       "                .geemap-dark .jupyter-button {\n",
       "                    --jp-layout-color3: #383838;\n",
       "                }\n",
       "\n",
       "                .geemap-colab {\n",
       "                    background-color: var(--colab-primary-surface-color, white);\n",
       "                }\n",
       "\n",
       "                .geemap-colab .jupyter-button {\n",
       "                    --jp-layout-color3: var(--colab-primary-surface-color, white);\n",
       "                }\n",
       "            </style>\n",
       "            "
      ],
      "text/plain": [
       "<IPython.core.display.HTML object>"
      ]
     },
     "metadata": {},
     "output_type": "display_data"
    },
    {
     "name": "stdout",
     "output_type": "stream",
     "text": [
      "Computing statistics ...\n",
      "Generating URL ...\n",
      "Downloading data from https://earthengine.googleapis.com/v1/projects/ee-sarice/tables/fc652dfc5c57a4760635e5bc7457f910-d907e48fcb89a847d8dcbdc55a646145:getFeatures\n",
      "Please wait ...\n",
      "Data downloaded to /mnt/Data_2tb/laketemp_bias/era5land/2000_1.csv\n",
      "Computing statistics ...\n",
      "Generating URL ...\n",
      "Downloading data from https://earthengine.googleapis.com/v1/projects/ee-sarice/tables/02fcb1175806c6c54d2f2f4e4e7d12cb-2515f29c84d3ed4083a89dc5fcc4ffa4:getFeatures\n",
      "Please wait ...\n"
     ]
    }
   ],
   "source": [
    "# split the 2024 cci lakes to 2 batches\n",
    "roi_1 = cci_lakes.filter(ee.Filter.inList('CCI ID', cci_lake_ids[:1012]))\n",
    "roi_2 = cci_lakes.filter(ee.Filter.inList('CCI ID', cci_lake_ids[1012:]))\n",
    "\n",
    "for yr in years:\n",
    "    era5land = ee.ImageCollection(\"ECMWF/ERA5_LAND/DAILY_AGGR\").filterDate(f\"{yr}-01-01\", f\"{yr+1}-01-01\").select(['temperature_2m', 'lake_mix_layer_temperature']).toBands()\n",
    "    geemap.zonal_statistics(era5land, \n",
    "                            roi_1, \n",
    "                            f\"{out_dir}/{yr}_1.csv\", \n",
    "                            statistics_type='MEAN', \n",
    "                            # scale=1000\n",
    "                            )\n",
    "    geemap.zonal_statistics(era5land, \n",
    "                            roi_2, \n",
    "                            f\"{out_dir}/{yr}_2.csv\", \n",
    "                            statistics_type='MEAN', \n",
    "                            # scale=1000\n",
    "                            )"
   ]
  },
  {
   "cell_type": "code",
   "execution_count": null,
   "id": "83b78867-c33e-49a3-a635-4c5e38b04ec8",
   "metadata": {
    "tags": []
   },
   "outputs": [
    {
     "data": {
      "text/html": [
       "\n",
       "            <style>\n",
       "                .geemap-dark {\n",
       "                    --jp-widgets-color: white;\n",
       "                    --jp-widgets-label-color: white;\n",
       "                    --jp-ui-font-color1: white;\n",
       "                    --jp-layout-color2: #454545;\n",
       "                    background-color: #383838;\n",
       "                }\n",
       "\n",
       "                .geemap-dark .jupyter-button {\n",
       "                    --jp-layout-color3: #383838;\n",
       "                }\n",
       "\n",
       "                .geemap-colab {\n",
       "                    background-color: var(--colab-primary-surface-color, white);\n",
       "                }\n",
       "\n",
       "                .geemap-colab .jupyter-button {\n",
       "                    --jp-layout-color3: var(--colab-primary-surface-color, white);\n",
       "                }\n",
       "            </style>\n",
       "            "
      ],
      "text/plain": [
       "<IPython.core.display.HTML object>"
      ]
     },
     "metadata": {},
     "output_type": "display_data"
    },
    {
     "name": "stdout",
     "output_type": "stream",
     "text": [
      "Computing statistics ...\n",
      "Generating URL ...\n",
      "Downloading data from https://earthengine.googleapis.com/v1/projects/ee-sarice/tables/4e12c0e2074b9da6811d393ba5dc8efe-7c99acdc01ba688b9e617990f6260a2d:getFeatures\n",
      "Please wait ...\n",
      "Data downloaded to /mnt/Data_2tb/laketemp_bias/era5land/raw/2000_1_wind_srad.csv\n",
      "Computing statistics ...\n",
      "Generating URL ...\n",
      "Downloading data from https://earthengine.googleapis.com/v1/projects/ee-sarice/tables/ec24715269ee4470d95e5c2cb2bd9ec0-5ae8f37ab615a8012376f6253ccc42f8:getFeatures\n",
      "Please wait ...\n",
      "Data downloaded to /mnt/Data_2tb/laketemp_bias/era5land/raw/2000_2_wind_srad.csv\n",
      "Computing statistics ...\n",
      "Generating URL ...\n",
      "Downloading data from https://earthengine.googleapis.com/v1/projects/ee-sarice/tables/c51f6e07e635ce268d4c3b7c47ad8bbf-0c2cdea9809ec3db902741b9b70d3df5:getFeatures\n",
      "Please wait ...\n",
      "Data downloaded to /mnt/Data_2tb/laketemp_bias/era5land/raw/2001_1_wind_srad.csv\n",
      "Computing statistics ...\n",
      "Generating URL ...\n",
      "Downloading data from https://earthengine.googleapis.com/v1/projects/ee-sarice/tables/4b0c66a5f590d17a3ea6e689e8fadfa9-17f12d90e3409fa84e7d247a1b9b9dd6:getFeatures\n",
      "Please wait ...\n",
      "Data downloaded to /mnt/Data_2tb/laketemp_bias/era5land/raw/2001_2_wind_srad.csv\n",
      "Computing statistics ...\n",
      "Generating URL ...\n",
      "Downloading data from https://earthengine.googleapis.com/v1/projects/ee-sarice/tables/44654914d947dedb6fce5f4ce7e51e6c-91847ddd4c4dce775229940ba7594d59:getFeatures\n",
      "Please wait ...\n",
      "Data downloaded to /mnt/Data_2tb/laketemp_bias/era5land/raw/2002_1_wind_srad.csv\n",
      "Computing statistics ...\n",
      "Generating URL ...\n",
      "Downloading data from https://earthengine.googleapis.com/v1/projects/ee-sarice/tables/fdc062cff95c04f4c3873861d7dd7b33-a553aef26c4814e46a29b58c1a00e235:getFeatures\n",
      "Please wait ...\n",
      "Data downloaded to /mnt/Data_2tb/laketemp_bias/era5land/raw/2002_2_wind_srad.csv\n",
      "Computing statistics ...\n",
      "Generating URL ...\n",
      "Downloading data from https://earthengine.googleapis.com/v1/projects/ee-sarice/tables/f3c31a8aa3ef0e88aa8201079efcea9c-2e5489791d95a84d185963420c2fdbd4:getFeatures\n",
      "Please wait ...\n",
      "Data downloaded to /mnt/Data_2tb/laketemp_bias/era5land/raw/2003_1_wind_srad.csv\n",
      "Computing statistics ...\n",
      "Generating URL ...\n",
      "Downloading data from https://earthengine.googleapis.com/v1/projects/ee-sarice/tables/ecd64d46d7fa3158834e4acace840289-71bcbab73a0437cb56e6b424bd14b8f0:getFeatures\n",
      "Please wait ...\n"
     ]
    }
   ],
   "source": [
    "# split the 2024 cci lakes to 2 batches\n",
    "roi_1 = cci_lakes.filter(ee.Filter.inList('CCI ID', cci_lake_ids[:1012]))\n",
    "roi_2 = cci_lakes.filter(ee.Filter.inList('CCI ID', cci_lake_ids[1012:]))\n",
    "\n",
    "for yr in years:\n",
    "    era5land = ee.ImageCollection(\"ECMWF/ERA5_LAND/DAILY_AGGR\").filterDate(f\"{yr}-01-01\", f\"{yr+1}-01-01\").select(['u_component_of_wind_10m', \n",
    "                                                                                                                   'v_component_of_wind_10m',\n",
    "                                                                                                                   'surface_solar_radiation_downwards_sum']).toBands()\n",
    "    geemap.zonal_statistics(era5land, \n",
    "                            roi_1, \n",
    "                            f\"{out_dir}/{yr}_1_wind_srad.csv\", \n",
    "                            statistics_type='MEAN', \n",
    "                            # scale=1000\n",
    "                            )\n",
    "    geemap.zonal_statistics(era5land, \n",
    "                            roi_2, \n",
    "                            f\"{out_dir}/{yr}_2_wind_srad.csv\", \n",
    "                            statistics_type='MEAN', \n",
    "                            # scale=1000\n",
    "                            )"
   ]
  },
  {
   "cell_type": "markdown",
   "id": "bc88e27b-9eb3-435a-a254-38a06c7618e9",
   "metadata": {},
   "source": [
    "# Merge air/water temperature"
   ]
  },
  {
   "cell_type": "code",
   "execution_count": 2,
   "id": "b6825643-cadc-4a36-b533-9204b4e2d492",
   "metadata": {
    "tags": []
   },
   "outputs": [
    {
     "data": {
      "text/html": [
       "\n",
       "            <style>\n",
       "                .geemap-dark {\n",
       "                    --jp-widgets-color: white;\n",
       "                    --jp-widgets-label-color: white;\n",
       "                    --jp-ui-font-color1: white;\n",
       "                    --jp-layout-color2: #454545;\n",
       "                    background-color: #383838;\n",
       "                }\n",
       "\n",
       "                .geemap-dark .jupyter-button {\n",
       "                    --jp-layout-color3: #383838;\n",
       "                }\n",
       "\n",
       "                .geemap-colab {\n",
       "                    background-color: var(--colab-primary-surface-color, white);\n",
       "                }\n",
       "\n",
       "                .geemap-colab .jupyter-button {\n",
       "                    --jp-layout-color3: var(--colab-primary-surface-color, white);\n",
       "                }\n",
       "            </style>\n",
       "            "
      ],
      "text/plain": [
       "<IPython.core.display.HTML object>"
      ]
     },
     "metadata": {},
     "output_type": "display_data"
    }
   ],
   "source": [
    "years = list(range(2000, 2024))\n",
    "out_dir = \"/nas/cee-hydro/laketemp_bias/era5land/raw\""
   ]
  },
  {
   "cell_type": "code",
   "execution_count": 3,
   "id": "84238837-c8ed-42b4-938a-38b6f791d70c",
   "metadata": {
    "tags": []
   },
   "outputs": [
    {
     "data": {
      "text/html": [
       "\n",
       "            <style>\n",
       "                .geemap-dark {\n",
       "                    --jp-widgets-color: white;\n",
       "                    --jp-widgets-label-color: white;\n",
       "                    --jp-ui-font-color1: white;\n",
       "                    --jp-layout-color2: #454545;\n",
       "                    background-color: #383838;\n",
       "                }\n",
       "\n",
       "                .geemap-dark .jupyter-button {\n",
       "                    --jp-layout-color3: #383838;\n",
       "                }\n",
       "\n",
       "                .geemap-colab {\n",
       "                    background-color: var(--colab-primary-surface-color, white);\n",
       "                }\n",
       "\n",
       "                .geemap-colab .jupyter-button {\n",
       "                    --jp-layout-color3: var(--colab-primary-surface-color, white);\n",
       "                }\n",
       "            </style>\n",
       "            "
      ],
      "text/plain": [
       "<IPython.core.display.HTML object>"
      ]
     },
     "metadata": {},
     "output_type": "display_data"
    }
   ],
   "source": [
    "# split air temperature & water surface temperature\n",
    "df_air = pd.DataFrame([])\n",
    "df_lswt = pd.DataFrame([])\n",
    "\n",
    "for yr in years:\n",
    "    df1 = pd.read_csv(f\"{out_dir}/{yr}_1.csv\").set_index(\"CCI ID\").iloc[:, :-10]\n",
    "    df2 = pd.read_csv(f\"{out_dir}/{yr}_2.csv\").set_index(\"CCI ID\").iloc[:, :-10]\n",
    "    df = pd.concat([df1, df2], axis = 0)\n",
    "\n",
    "    air_cols = [\"temperature_2m\" in col for col in df.columns]\n",
    "    lswt_cols = [\"lake_mix_layer_temperature\" in col for col in df.columns]\n",
    "\n",
    "    # create a dataframe for air temperature\n",
    "    air_df = df.loc[:, air_cols]\n",
    "    # turn the column names to date time\n",
    "    # and transpose the dataframe\n",
    "    air_df.columns = [col.replace(\"_temperature_2m\", \"\") for col in air_df.columns]\n",
    "    air_df = air_df.T\n",
    "    air_df.index = pd.to_datetime(air_df.index)\n",
    "    air_df.columns.name = \"\"\n",
    "    df_air = pd.concat([df_air, air_df], axis = 0)\n",
    "\n",
    "    # create a dataframe for water temperature\n",
    "    lswt_df = df.loc[:, lswt_cols]\n",
    "    # turn the column names to date time\n",
    "    # and transpose the dataframe\n",
    "    lswt_df.columns = [col.replace(\"_lake_mix_layer_temperature\", \"\") for col in lswt_df.columns]\n",
    "    lswt_df = lswt_df.T\n",
    "    lswt_df.index = pd.to_datetime(lswt_df.index)\n",
    "    lswt_df.columns.name = \"\"\n",
    "    df_lswt = pd.concat([df_lswt, lswt_df], axis = 0)\n",
    "\n",
    "# Find lakes with no data\n",
    "no_data_lakes = df_air.columns[df_air.isna().any()].to_numpy()\n",
    "# to celecius\n",
    "df_air = df_air.drop(columns = no_data_lakes) - 273.15\n",
    "df_lswt = df_lswt.drop(columns = no_data_lakes) - 273.15"
   ]
  },
  {
   "cell_type": "code",
   "execution_count": 4,
   "id": "2bfcf960-cd6f-4ef5-a834-793217a61b99",
   "metadata": {
    "tags": []
   },
   "outputs": [
    {
     "data": {
      "text/html": [
       "\n",
       "            <style>\n",
       "                .geemap-dark {\n",
       "                    --jp-widgets-color: white;\n",
       "                    --jp-widgets-label-color: white;\n",
       "                    --jp-ui-font-color1: white;\n",
       "                    --jp-layout-color2: #454545;\n",
       "                    background-color: #383838;\n",
       "                }\n",
       "\n",
       "                .geemap-dark .jupyter-button {\n",
       "                    --jp-layout-color3: #383838;\n",
       "                }\n",
       "\n",
       "                .geemap-colab {\n",
       "                    background-color: var(--colab-primary-surface-color, white);\n",
       "                }\n",
       "\n",
       "                .geemap-colab .jupyter-button {\n",
       "                    --jp-layout-color3: var(--colab-primary-surface-color, white);\n",
       "                }\n",
       "            </style>\n",
       "            "
      ],
      "text/plain": [
       "<IPython.core.display.HTML object>"
      ]
     },
     "metadata": {},
     "output_type": "display_data"
    }
   ],
   "source": [
    "df_air.to_csv(\"/nas/cee-hydro/laketemp_bias/era5land/air_temp.csv\")\n",
    "df_lswt.to_csv(\"/nas/cee-hydro/laketemp_bias/era5land/water_temp.csv\")"
   ]
  },
  {
   "cell_type": "markdown",
   "id": "e1ea1457-88d5-42a0-b09e-33f9148019fa",
   "metadata": {},
   "source": [
    "# Merge wind and srad data"
   ]
  },
  {
   "cell_type": "code",
   "execution_count": 2,
   "id": "015e4e07-ba12-4f0b-ad96-87faf59753df",
   "metadata": {},
   "outputs": [
    {
     "data": {
      "text/html": [
       "\n",
       "            <style>\n",
       "                .geemap-dark {\n",
       "                    --jp-widgets-color: white;\n",
       "                    --jp-widgets-label-color: white;\n",
       "                    --jp-ui-font-color1: white;\n",
       "                    --jp-layout-color2: #454545;\n",
       "                    background-color: #383838;\n",
       "                }\n",
       "\n",
       "                .geemap-dark .jupyter-button {\n",
       "                    --jp-layout-color3: #383838;\n",
       "                }\n",
       "\n",
       "                .geemap-colab {\n",
       "                    background-color: var(--colab-primary-surface-color, white);\n",
       "                }\n",
       "\n",
       "                .geemap-colab .jupyter-button {\n",
       "                    --jp-layout-color3: var(--colab-primary-surface-color, white);\n",
       "                }\n",
       "            </style>\n",
       "            "
      ],
      "text/plain": [
       "<IPython.core.display.HTML object>"
      ]
     },
     "metadata": {},
     "output_type": "display_data"
    }
   ],
   "source": [
    "years = list(range(2000, 2024))\n",
    "out_dir = \"/nas/cee-hydro/laketemp_bias/era5land/raw\""
   ]
  },
  {
   "cell_type": "code",
   "execution_count": 3,
   "id": "0583af17-9a94-488d-9b4e-26ff0c8f0301",
   "metadata": {
    "tags": []
   },
   "outputs": [
    {
     "data": {
      "text/html": [
       "\n",
       "            <style>\n",
       "                .geemap-dark {\n",
       "                    --jp-widgets-color: white;\n",
       "                    --jp-widgets-label-color: white;\n",
       "                    --jp-ui-font-color1: white;\n",
       "                    --jp-layout-color2: #454545;\n",
       "                    background-color: #383838;\n",
       "                }\n",
       "\n",
       "                .geemap-dark .jupyter-button {\n",
       "                    --jp-layout-color3: #383838;\n",
       "                }\n",
       "\n",
       "                .geemap-colab {\n",
       "                    background-color: var(--colab-primary-surface-color, white);\n",
       "                }\n",
       "\n",
       "                .geemap-colab .jupyter-button {\n",
       "                    --jp-layout-color3: var(--colab-primary-surface-color, white);\n",
       "                }\n",
       "            </style>\n",
       "            "
      ],
      "text/plain": [
       "<IPython.core.display.HTML object>"
      ]
     },
     "metadata": {},
     "output_type": "display_data"
    }
   ],
   "source": [
    "# split air temperature & water surface temperature\n",
    "df_wind = pd.DataFrame([])\n",
    "df_srad = pd.DataFrame([])\n",
    "\n",
    "for yr in years:\n",
    "    df1 = pd.read_csv(f\"{out_dir}/{yr}_1_wind_srad.csv\").set_index(\"CCI ID\").iloc[:, :-10]\n",
    "    df2 = pd.read_csv(f\"{out_dir}/{yr}_2_wind_srad.csv\").set_index(\"CCI ID\").iloc[:, :-10]\n",
    "    df = pd.concat([df1, df2], axis = 0)\n",
    "\n",
    "    # u and v wind, solar radiation\n",
    "    u_cols = [\"u_component_of_wind_10m\" in col for col in df.columns]\n",
    "    v_cols = [\"v_component_of_wind_10m\" in col for col in df.columns]\n",
    "    srad_cols = [\"surface_solar_radiation_downwards_sum\" in col for col in df.columns]\n",
    "\n",
    "    # create a dataframe for air temperature\n",
    "    u_df = df.loc[:, u_cols]\n",
    "    v_df = df.loc[:, v_cols]\n",
    "    # calculate wind speed\n",
    "    wind_df = pd.DataFrame(np.sqrt(u_df.values ** 2 + v_df.values ** 2))\n",
    "    wind_df.index = u_df.index\n",
    "    srad_df = df.loc[:, srad_cols]\n",
    "    \n",
    "    # turn the column names to date time\n",
    "    # and transpose the dataframe\n",
    "    wind_df.columns = [col.replace(\"_u_component_of_wind_10m\", \"\") for col in u_df.columns]\n",
    "    wind_df = wind_df.T\n",
    "    wind_df.index = pd.to_datetime(wind_df.index)\n",
    "    wind_df.columns.name = \"\"\n",
    "    df_wind = pd.concat([df_wind, wind_df], axis = 0)\n",
    "\n",
    "    # create a dataframe for water temperature\n",
    "    srad_df = df.loc[:, srad_cols]\n",
    "    # turn the column names to date time\n",
    "    # and transpose the dataframe\n",
    "    srad_df.columns = [col.replace(\"_surface_solar_radiation_downwards_sum\", \"\") for col in srad_df.columns]\n",
    "    srad_df = srad_df.T\n",
    "    srad_df.index = pd.to_datetime(srad_df.index)\n",
    "    srad_df.columns.name = \"\"\n",
    "    df_srad = pd.concat([df_srad, srad_df], axis = 0)\n",
    "\n",
    "# Find lakes with no data\n",
    "no_data_lakes = df_wind.columns[df_wind.isna().any()].to_numpy()\n",
    "# to celecius\n",
    "df_wind = df_wind.drop(columns = no_data_lakes) - 273.15\n",
    "df_srad = df_srad.drop(columns = no_data_lakes) - 273.15"
   ]
  },
  {
   "cell_type": "code",
   "execution_count": 4,
   "id": "58729729-7abc-4bda-83b1-9220a4f29c56",
   "metadata": {
    "tags": []
   },
   "outputs": [
    {
     "data": {
      "text/html": [
       "\n",
       "            <style>\n",
       "                .geemap-dark {\n",
       "                    --jp-widgets-color: white;\n",
       "                    --jp-widgets-label-color: white;\n",
       "                    --jp-ui-font-color1: white;\n",
       "                    --jp-layout-color2: #454545;\n",
       "                    background-color: #383838;\n",
       "                }\n",
       "\n",
       "                .geemap-dark .jupyter-button {\n",
       "                    --jp-layout-color3: #383838;\n",
       "                }\n",
       "\n",
       "                .geemap-colab {\n",
       "                    background-color: var(--colab-primary-surface-color, white);\n",
       "                }\n",
       "\n",
       "                .geemap-colab .jupyter-button {\n",
       "                    --jp-layout-color3: var(--colab-primary-surface-color, white);\n",
       "                }\n",
       "            </style>\n",
       "            "
      ],
      "text/plain": [
       "<IPython.core.display.HTML object>"
      ]
     },
     "metadata": {},
     "output_type": "display_data"
    }
   ],
   "source": [
    "df_wind.to_csv(\"/nas/cee-hydro/laketemp_bias/era5land/wind.csv\")\n",
    "df_srad.to_csv(\"/nas/cee-hydro/laketemp_bias/era5land/srad.csv\")"
   ]
  },
  {
   "cell_type": "code",
   "execution_count": null,
   "id": "e85b2fd2-b713-44c6-9b26-f745b1104d9b",
   "metadata": {},
   "outputs": [],
   "source": []
  },
  {
   "cell_type": "code",
   "execution_count": null,
   "id": "446a00f6-f0b3-4fc8-8749-07772bd58751",
   "metadata": {},
   "outputs": [],
   "source": []
  }
 ],
 "metadata": {
  "kernelspec": {
   "display_name": "Python [conda env:lakeice]",
   "language": "python",
   "name": "conda-env-lakeice-py"
  },
  "language_info": {
   "codemirror_mode": {
    "name": "ipython",
    "version": 3
   },
   "file_extension": ".py",
   "mimetype": "text/x-python",
   "name": "python",
   "nbconvert_exporter": "python",
   "pygments_lexer": "ipython3",
   "version": "3.11.5"
  }
 },
 "nbformat": 4,
 "nbformat_minor": 5
}

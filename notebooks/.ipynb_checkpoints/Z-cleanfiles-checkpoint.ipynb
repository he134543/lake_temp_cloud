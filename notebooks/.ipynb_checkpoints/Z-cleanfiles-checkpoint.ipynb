{
 "cells": [
  {
   "cell_type": "markdown",
   "id": "d2f3a8f1-0c42-4a4e-aa0e-71c0c0a4eb10",
   "metadata": {},
   "source": [
    "# CLean files, some previous simulations of full records are correct"
   ]
  },
  {
   "cell_type": "code",
   "execution_count": 2,
   "id": "662898c4-7893-4095-b3d3-fceb3af8b7dc",
   "metadata": {},
   "outputs": [],
   "source": [
    "import numpy as np\n",
    "import pandas as pd\n",
    "import os\n",
    "import glob"
   ]
  },
  {
   "cell_type": "code",
   "execution_count": 3,
   "id": "6b3c6e71-003a-4b88-baf6-b74486bdc86b",
   "metadata": {},
   "outputs": [],
   "source": [
    "cci_lake_list = pd.read_csv(\"../data/cci_lakes_updated_list_1945.csv\", index_col = 0).index.to_numpy().astype(np.int64)"
   ]
  },
  {
   "cell_type": "code",
   "execution_count": 7,
   "id": "117d3557-45b6-4db5-b167-93e510fcdd07",
   "metadata": {},
   "outputs": [],
   "source": [
    "param_dir = \"/nas/cee-hydro/laketemp_bias/params/a2w_param_full\"\n",
    "csv_list = glob.glob(f\"{param_dir}/*.csv\")"
   ]
  },
  {
   "cell_type": "code",
   "execution_count": 9,
   "id": "64497dc6-2fc2-47e4-919e-e670f2a1ec67",
   "metadata": {},
   "outputs": [],
   "source": [
    "# remove csvs not in the cci_lake_list\n",
    "for cci_id in cci_lake_list:\n",
    "    filepath = f\"{os.path.dirname(param_dir)}/{cci_id}.csv\"\n",
    "    break"
   ]
  },
  {
   "cell_type": "code",
   "execution_count": 10,
   "id": "2eea6647-66f5-419b-9ed2-0573ec4f29ba",
   "metadata": {},
   "outputs": [
    {
     "data": {
      "text/plain": [
       "'/nas/cee-hydro/laketemp_bias/params/799.csv'"
      ]
     },
     "execution_count": 10,
     "metadata": {},
     "output_type": "execute_result"
    }
   ],
   "source": [
    "len(csv_list)"
   ]
  }
 ],
 "metadata": {
  "kernelspec": {
   "display_name": "Python [conda env:.conda-laketemp]",
   "language": "python",
   "name": "conda-env-.conda-laketemp-py"
  },
  "language_info": {
   "codemirror_mode": {
    "name": "ipython",
    "version": 3
   },
   "file_extension": ".py",
   "mimetype": "text/x-python",
   "name": "python",
   "nbconvert_exporter": "python",
   "pygments_lexer": "ipython3",
   "version": "3.12.7"
  }
 },
 "nbformat": 4,
 "nbformat_minor": 5
}

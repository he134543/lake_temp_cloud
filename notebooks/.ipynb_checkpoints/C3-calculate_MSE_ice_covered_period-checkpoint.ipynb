{
 "cells": [
  {
   "cell_type": "code",
   "execution_count": 1,
   "id": "af7bcbbb-7596-455b-bb0c-7b6eab6a886e",
   "metadata": {},
   "outputs": [],
   "source": [
    "import numpy as np\n",
    "import pandas as pd\n",
    "import os\n",
    "import geopandas as gpd\n",
    "from tqdm import tqdm"
   ]
  },
  {
   "cell_type": "code",
   "execution_count": 8,
   "id": "86baa432-b6df-49ef-8b0e-514246b31cc6",
   "metadata": {},
   "outputs": [],
   "source": [
    "from p_tqdm import p_map"
   ]
  },
  {
   "cell_type": "code",
   "execution_count": 2,
   "id": "14be4673-0f61-481a-bcc7-a9993ac5f10b",
   "metadata": {},
   "outputs": [],
   "source": [
    "import matplotlib.pyplot as plt"
   ]
  },
  {
   "cell_type": "code",
   "execution_count": 3,
   "id": "81be143c-3497-433c-b984-ffbb95baa7a1",
   "metadata": {},
   "outputs": [],
   "source": [
    "train_period = pd.date_range(\"2003-01-01\", \"2017-12-31\")\n",
    "val_period = pd.date_range(\"2018-01-01\", \"2023-12-31\")\n",
    "total_period = pd.date_range(\"2003-01-01\", \"2023-12-31\")"
   ]
  },
  {
   "cell_type": "code",
   "execution_count": 4,
   "id": "c9e481ee-cd69-4f5b-a021-0ff9b23c9de3",
   "metadata": {},
   "outputs": [],
   "source": [
    "# load cci lakes\n",
    "cci_lake_list = pd.read_csv(\"../data/cci_lakes_hydrolake_depth.csv\")[\"CCI ID\"].to_numpy()\n",
    "cci_lakes = pd.read_csv(\"../data/ESA_CCI_static_lake_mask_v2_1km_UoR_metadata_fv2.1_06Oct2021_4laketemp.csv\", index_col=0).loc[cci_lake_list]\n",
    "cci_lakes_gdf = gpd.GeoDataFrame(cci_lakes, geometry=gpd.points_from_xy(cci_lakes['LON CENTRE'], cci_lakes['LAT CENTRE']),\n",
    "                                crs=\"epsg:4326\")\n",
    "cci_lakes_gdf.index.name = \"cci_lake_id\""
   ]
  },
  {
   "cell_type": "code",
   "execution_count": 5,
   "id": "17c80a5a-de8c-4d99-90ca-8a1e32b26fc1",
   "metadata": {},
   "outputs": [],
   "source": [
    "# load daily continous temperature\n",
    "df_tw = pd.read_csv(\"/nas/cee-hydro/laketemp_bias/era5land/water_temp.csv\", index_col=0, \n",
    "                    parse_dates=True).loc[total_period, cci_lake_list.astype(str)]"
   ]
  },
  {
   "cell_type": "code",
   "execution_count": 6,
   "id": "595207f1-8374-4f05-958a-aa4de954a8dc",
   "metadata": {},
   "outputs": [],
   "source": [
    "# data paths to simulated water temperature\n",
    "a2w_full_sim_dir = \"/nas/cee-hydro/laketemp_bias/simulations/a2w_full_sim\"\n",
    "a2w_cloud_sim_dir = \"/nas/cee-hydro/laketemp_bias/simulations/a2w_cloud_sim\"\n",
    "lstm_full_sim_dir = \"/nas/cee-hydro/laketemp_bias/simulations/lstm_full_sim\"\n",
    "lstm_cloud_sim_dir = \"/nas/cee-hydro/laketemp_bias/simulations/lstm_cloud_sim\""
   ]
  },
  {
   "cell_type": "code",
   "execution_count": 7,
   "id": "ef740852-32c9-4846-9c07-17b0c0b749fb",
   "metadata": {},
   "outputs": [],
   "source": [
    "def calc_rmse(obs, sim):\n",
    "    if len(obs) != len(sim):\n",
    "        raise ValueError(\"Arrays must have the same size.\")\n",
    "\n",
    "    mask = ~np.isnan(obs)\n",
    "    obs = obs[mask]\n",
    "    sim = sim[mask]\n",
    "        \n",
    "    # Calculate the rmse value\n",
    "    rmse_val = np.sqrt(np.mean((obs-sim)**2))\n",
    "    return rmse_val"
   ]
  },
  {
   "cell_type": "code",
   "execution_count": 14,
   "id": "9cea3b11-c6e4-4b6c-b1a9-bb09eb511654",
   "metadata": {},
   "outputs": [],
   "source": [
    "def cal_ice_rmse(cci_lake_id):\n",
    "    # filter out observation when observed tw is 0\n",
    "    obs_df_tw = df_tw.loc[:, [str(cci_lake_id)]]\n",
    "    obs_df_tw = obs_df_tw.loc[obs_df_tw[str(cci_lake_id)] <= 0]\n",
    "    \n",
    "    # set the tw as 0\n",
    "    obs_df_tw[str(cci_lake_id)] = np.zeros(len(obs_df_tw))\n",
    "    \n",
    "    if len(obs_df_tw) == 0:\n",
    "        # non ice covered lakes\n",
    "        # skip\n",
    "        rmse_lstm_full = np.nan\n",
    "        rmse_lstm_cloud = np.nan\n",
    "    else:\n",
    "        # load simulated tw\n",
    "        lstm_full_sim = pd.read_csv(f\"{lstm_full_sim_dir}/{cci_lake_id}.csv\", index_col = 0, parse_dates=True).loc[obs_df_tw.index].mean(axis = 1)\n",
    "        lstm_cloud_sim = pd.read_csv(f\"{lstm_cloud_sim_dir}/{cci_lake_id}.csv\", index_col = 0, parse_dates=True).loc[obs_df_tw.index].mean(axis = 1)\n",
    "        rmse_lstm_full = calc_rmse(obs_df_tw.values.ravel(), lstm_full_sim.values.ravel())\n",
    "        rmse_lstm_cloud = calc_rmse(obs_df_tw.values.ravel(), lstm_cloud_sim.values.ravel())\n",
    "        \n",
    "    output_dict = {\"rmse_full\": rmse_lstm_full, \n",
    "                   \"rmse_cloud\": rmse_lstm_cloud}\n",
    "    return output_dict"
   ]
  },
  {
   "cell_type": "code",
   "execution_count": 19,
   "id": "aaecf0dc-acca-4d5c-be47-c6c30c33e673",
   "metadata": {},
   "outputs": [
    {
     "data": {
      "application/vnd.jupyter.widget-view+json": {
       "model_id": "1e67b0db523b4f9b90a25ade89e7c76d",
       "version_major": 2,
       "version_minor": 0
      },
      "text/plain": [
       "  0%|          | 0/2016 [00:00<?, ?it/s]"
      ]
     },
     "metadata": {},
     "output_type": "display_data"
    }
   ],
   "source": [
    "rmse_ice = pd.DataFrame(p_map(cal_ice_rmse, cci_lake_list))"
   ]
  },
  {
   "cell_type": "code",
   "execution_count": 22,
   "id": "dc5b2ea5-0d98-47da-82ce-f0b2d027ec74",
   "metadata": {},
   "outputs": [],
   "source": [
    "import seaborn as sns"
   ]
  },
  {
   "cell_type": "code",
   "execution_count": 23,
   "id": "54bf3ffa-e22d-4f8c-84f9-c448f4fe66e7",
   "metadata": {},
   "outputs": [
    {
     "data": {
      "text/plain": [
       "<matplotlib.legend.Legend at 0x763db2ad61b0>"
      ]
     },
     "execution_count": 23,
     "metadata": {},
     "output_type": "execute_result"
    },
    {
     "data": {
      "image/png": "[encoded data removed]",
      "text/plain": [
       "<Figure size 640x480 with 1 Axes>"
      ]
     },
     "metadata": {},
     "output_type": "display_data"
    }
   ],
   "source": [
    "sns.histplot(data = rmse_ice, x = \"rmse_full\", bins = 20, stat = \"proportion\", label = \"RMSE; Full\")\n",
    "sns.histplot(data = rmse_ice, x = \"rmse_cloud\", bins = 20, stat = \"proportion\", label = \"RMSE; Cloud\")\n",
    "plt.legend()"
   ]
  },
  {
   "cell_type": "code",
   "execution_count": 24,
   "id": "56264c43-53cd-4b71-a26b-f683c4767904",
   "metadata": {},
   "outputs": [
    {
     "data": {
      "text/html": [
       "<div>\n",
       "<style scoped>\n",
       "    .dataframe tbody tr th:only-of-type {\n",
       "        vertical-align: middle;\n",
       "    }\n",
       "\n",
       "    .dataframe tbody tr th {\n",
       "        vertical-align: top;\n",
       "    }\n",
       "\n",
       "    .dataframe thead th {\n",
       "        text-align: right;\n",
       "    }\n",
       "</style>\n",
       "<table border=\"1\" class=\"dataframe\">\n",
       "  <thead>\n",
       "    <tr style=\"text-align: right;\">\n",
       "      <th></th>\n",
       "      <th>rmse_full</th>\n",
       "      <th>rmse_cloud</th>\n",
       "    </tr>\n",
       "  </thead>\n",
       "  <tbody>\n",
       "    <tr>\n",
       "      <th>count</th>\n",
       "      <td>1323.000000</td>\n",
       "      <td>1323.000000</td>\n",
       "    </tr>\n",
       "    <tr>\n",
       "      <th>mean</th>\n",
       "      <td>0.054547</td>\n",
       "      <td>0.116019</td>\n",
       "    </tr>\n",
       "    <tr>\n",
       "      <th>std</th>\n",
       "      <td>0.044552</td>\n",
       "      <td>0.081950</td>\n",
       "    </tr>\n",
       "    <tr>\n",
       "      <th>min</th>\n",
       "      <td>0.008796</td>\n",
       "      <td>0.023884</td>\n",
       "    </tr>\n",
       "    <tr>\n",
       "      <th>25%</th>\n",
       "      <td>0.028728</td>\n",
       "      <td>0.063327</td>\n",
       "    </tr>\n",
       "    <tr>\n",
       "      <th>50%</th>\n",
       "      <td>0.041343</td>\n",
       "      <td>0.092010</td>\n",
       "    </tr>\n",
       "    <tr>\n",
       "      <th>75%</th>\n",
       "      <td>0.061859</td>\n",
       "      <td>0.143131</td>\n",
       "    </tr>\n",
       "    <tr>\n",
       "      <th>max</th>\n",
       "      <td>0.434476</td>\n",
       "      <td>0.761645</td>\n",
       "    </tr>\n",
       "  </tbody>\n",
       "</table>\n",
       "</div>"
      ],
      "text/plain": [
       "         rmse_full   rmse_cloud\n",
       "count  1323.000000  1323.000000\n",
       "mean      0.054547     0.116019\n",
       "std       0.044552     0.081950\n",
       "min       0.008796     0.023884\n",
       "25%       0.028728     0.063327\n",
       "50%       0.041343     0.092010\n",
       "75%       0.061859     0.143131\n",
       "max       0.434476     0.761645"
      ]
     },
     "execution_count": 24,
     "metadata": {},
     "output_type": "execute_result"
    }
   ],
   "source": [
    "rmse_ice.describe()"
   ]
  },
  {
   "cell_type": "code",
   "execution_count": null,
   "id": "0d7c4c37-a210-4336-8681-184db4b22bfe",
   "metadata": {},
   "outputs": [],
   "source": []
  },
  {
   "cell_type": "code",
   "execution_count": null,
   "id": "ca91fde4-7dcb-4f6a-8a89-e3669f2fb4b8",
   "metadata": {},
   "outputs": [],
   "source": []
  },
  {
   "cell_type": "code",
   "execution_count": null,
   "id": "6792895a-1cde-4484-9fcd-583e41ad5408",
   "metadata": {},
   "outputs": [],
   "source": []
  }
 ],
 "metadata": {
  "kernelspec": {
   "display_name": "Python [conda env:.conda-zonal]",
   "language": "python",
   "name": "conda-env-.conda-zonal-py"
  },
  "language_info": {
   "codemirror_mode": {
    "name": "ipython",
    "version": 3
   },
   "file_extension": ".py",
   "mimetype": "text/x-python",
   "name": "python",
   "nbconvert_exporter": "python",
   "pygments_lexer": "ipython3",
   "version": "3.12.2"
  }
 },
 "nbformat": 4,
 "nbformat_minor": 5
}

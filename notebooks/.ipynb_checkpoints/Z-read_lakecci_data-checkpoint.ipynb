{
 "cells": [
  {
   "cell_type": "code",
   "execution_count": 1,
   "id": "7030187b-82f9-4188-9019-36c339ad1c3a",
   "metadata": {},
   "outputs": [],
   "source": [
    "import numpy as np\n",
    "import xarray as xr\n",
    "import pandas as pd\n",
    "import datetime\n",
    "import matplotlib.pyplot as plt"
   ]
  },
  {
   "cell_type": "code",
   "execution_count": 2,
   "id": "d1dbb844-040d-49fc-ad8e-8a8db6314b5d",
   "metadata": {},
   "outputs": [],
   "source": [
    "# lakes mask file \n",
    "# no change of the land mask file\n",
    "maskfile = '/nas/cee-hydro/laketemp_bias/ESA_CCI_static_lake_mask_v2.0.1.nc'\n",
    "\n",
    "# Id for lake Turkana: 22\n",
    "lake_id = 22\n",
    "\n",
    "# variable name\n",
    "varname = 'lake_surface_water_temperature'\n",
    "\n",
    "# defining the period of time in string format: YYYY-MM-DD\n",
    "# dates values must be between 1992-09-26 and 2020-12-31\n",
    "\n",
    "mindate = '2021-01-01'\n",
    "maxdate = '2021-12-31'"
   ]
  },
  {
   "cell_type": "code",
   "execution_count": 3,
   "id": "e1881010-77d5-4e46-bedd-86fac5dccc84",
   "metadata": {},
   "outputs": [],
   "source": [
    "mindate = datetime.datetime.strptime(mindate, '%Y-%m-%d')\n",
    "maxdate = datetime.datetime.strptime(maxdate, '%Y-%m-%d')\n",
    "mindate = max([mindate, datetime.datetime(1992,9,26)])\n",
    "maxdate = min([maxdate, datetime.datetime(2022,12,31)])"
   ]
  },
  {
   "cell_type": "code",
   "execution_count": null,
   "id": "d432c8f1-d73f-4835-ab9a-7641641da23e",
   "metadata": {},
   "outputs": [],
   "source": []
  },
  {
   "cell_type": "code",
   "execution_count": 4,
   "id": "050e7247-2f7e-4b32-b93b-12c1f74806ff",
   "metadata": {},
   "outputs": [],
   "source": [
    "mask_xr = xr.open_dataset(maskfile)\n",
    "mask = mask_xr['CCI_lakeid'].values\n",
    "mask_ind  = np.where(mask == lake_id)\n",
    "minx = np.min(mask_ind[1][:]) - 1\n",
    "maxx = np.max(mask_ind[1][:]) + 1\n",
    "miny = np.min(mask_ind[0][:]) - 1\n",
    "maxy = np.max(mask_ind[0][:]) + 1\n",
    "\n",
    "mask_lake = mask[miny:maxy+1, minx:maxx+1]\n",
    "mask_lake[mask_lake!=lake_id] = 0\n",
    "mask_lake[mask_lake == lake_id] = 1\n",
    "\n",
    "lat = mask_xr['lat'][miny:maxy+1].values\n",
    "lon = mask_xr['lon'][minx:maxx+1].values"
   ]
  },
  {
   "cell_type": "code",
   "execution_count": 5,
   "id": "316f250b-58fb-4bf7-861c-211ce37dc4f6",
   "metadata": {},
   "outputs": [
    {
     "data": {
      "image/png": "[encoded data removed]",
      "text/plain": [
       "<Figure size 400x1011.11 with 1 Axes>"
      ]
     },
     "metadata": {},
     "output_type": "display_data"
    }
   ],
   "source": [
    "# plot lake mask \n",
    "plt.matshow(mask_lake, extent=[np.min(lon), np.max(lon), np.min(lat), np.max(lat)])\n",
    "plt.show()"
   ]
  },
  {
   "cell_type": "code",
   "execution_count": null,
   "id": "91ba681b-12c7-4528-aa30-e3dc8dfcfb29",
   "metadata": {},
   "outputs": [],
   "source": [
    "date_vec = []\n",
    "data_vec = []\n",
    "version = 2.1\n",
    "\n",
    "for data_date in np.arange(mindate.toordinal(), maxdate.toordinal()+1):\n",
    "    current_date = datetime.datetime.fromordinal(data_date)\n",
    "    date_str = current_date.strftime(\"%Y%m%d\")\n",
    "    \n",
    "    #print (f'Downloading data from lake_id {lake_id} -  ESACCI-LAKES-L3S-LK_PRODUCTS-MERGED-{date_str}-fv{version}.0.nc')\n",
    "   \n",
    "    path = f'https://data.cci.ceda.ac.uk/thredds/dodsC/esacci/lakes/data/lake_products/L3S/v{version}/merged_product/'\n",
    "    path += f'{current_date.year}/{current_date.month:02}/'\n",
    "    path += f'ESACCI-LAKES-L3S-LK_PRODUCTS-MERGED-{date_str}-fv{version}.0.nc?{varname}'\n",
    "  \n",
    "    dataset = xr.open_dataset(path, engine=\"netcdf4\" )\n",
    "    dataset = dataset.isel(lat=slice(miny, maxy+1), lon=slice(minx, maxx+1))\n",
    "    units  = dataset[varname].units\n",
    "    filval = dataset[varname].encoding['_FillValue']\n",
    "    data = dataset[varname][0,:,:].values\n",
    "    \n",
    "    data[mask_lake == 0] = np.nan\n",
    "    \n",
    "    # only keep dates with no NaN values\n",
    "    if np.isnan(data).all() :\n",
    "        continue\n",
    "\n",
    "    date_vec.append(date_str)\n",
    "    data_vec.append(np.nanmean(data))"
   ]
  }
 ],
 "metadata": {
  "kernelspec": {
   "display_name": "Python [conda env:.conda-zonal]",
   "language": "python",
   "name": "conda-env-.conda-zonal-py"
  },
  "language_info": {
   "codemirror_mode": {
    "name": "ipython",
    "version": 3
   },
   "file_extension": ".py",
   "mimetype": "text/x-python",
   "name": "python",
   "nbconvert_exporter": "python",
   "pygments_lexer": "ipython3",
   "version": "3.12.2"
  }
 },
 "nbformat": 4,
 "nbformat_minor": 5
}

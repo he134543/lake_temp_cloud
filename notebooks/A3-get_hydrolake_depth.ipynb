{
 "cells": [
  {
   "cell_type": "markdown",
   "id": "733c03c0-1581-460f-b9aa-75bc1440f3bd",
   "metadata": {},
   "source": [
    "Use hydrolake depth as pre-computed depth for air2water model to constrain the parameter range"
   ]
  },
  {
   "cell_type": "code",
   "execution_count": 1,
   "id": "94e28a1a-d685-470c-b6cb-af4a8b00293f",
   "metadata": {
    "tags": []
   },
   "outputs": [],
   "source": [
    "import pandas as pd\n",
    "import numpy as np\n",
    "import os\n",
    "import glob\n",
    "import geopandas as gpd"
   ]
  },
  {
   "cell_type": "code",
   "execution_count": 2,
   "id": "4e63d624-3432-4b11-b6fd-7e966d428085",
   "metadata": {
    "tags": []
   },
   "outputs": [],
   "source": [
    "hydrolakes = gpd.read_file(\"/mnt/Data_2tb/HydroSHEDS/HydroLAKES_polys_v10_shp/HydroLAKES_polys_v10_shp/HydroLAKES_polys_v10.shp\")"
   ]
  },
  {
   "cell_type": "code",
   "execution_count": 3,
   "id": "ad5b9660-f5e8-4923-864d-7487ce618b70",
   "metadata": {
    "tags": []
   },
   "outputs": [],
   "source": [
    "cci_lakes = pd.read_csv(\"/home/xinchenh/Work/satbias_model/satlswt/data/ESA_CCI_static_lake_mask_v2_1km_UoR_metadata_fv2.1_06Oct2021_4laketemp.csv\",\n",
    "           index_col=0)"
   ]
  },
  {
   "cell_type": "code",
   "execution_count": 4,
   "id": "a1c3a1f1-e46d-48cf-99c1-52e35c513d6b",
   "metadata": {
    "tags": []
   },
   "outputs": [],
   "source": [
    "cci_lakes_gdf = gpd.GeoDataFrame(cci_lakes, geometry=gpd.points_from_xy(cci_lakes['LON CENTRE'], cci_lakes['LAT CENTRE']),\n",
    "                                crs=\"epsg:4326\")\n",
    "# cci_lakes_gdf = gpd.read_file(\"/mnt/Data_2tb/laketemp_bias/lakes_cci_v2.1.0_shp/shapefile/lakescci_v2.1.0_data-availability.shp\").set_index(\"id\")"
   ]
  },
  {
   "cell_type": "code",
   "execution_count": 5,
   "id": "2dd49c05-b257-4631-bb51-73acda0890e8",
   "metadata": {
    "tags": []
   },
   "outputs": [],
   "source": [
    "cci_lakes_gdf.crs = \"epsg:4326\""
   ]
  },
  {
   "cell_type": "code",
   "execution_count": 6,
   "id": "84544a26-0fbc-4502-98c6-041bea7d2b6c",
   "metadata": {
    "tags": []
   },
   "outputs": [
    {
     "data": {
      "text/plain": [
       "Index(['NAME', 'COUNTRY', 'LAT CENTRE', 'LON CENTRE',\n",
       "       'MAX DISTANCE TO LAND (KM)', 'LAT MIN BOX', 'LAT MAX BOX',\n",
       "       'LON MIN BOX', 'LON MAX BOX', 'ID in GLOBOLAKES 1000 MASK',\n",
       "       'ID in CGLOPS MASK', 'geometry'],\n",
       "      dtype='object')"
      ]
     },
     "execution_count": 6,
     "metadata": {},
     "output_type": "execute_result"
    }
   ],
   "source": [
    "cci_lakes_gdf.columns"
   ]
  },
  {
   "cell_type": "code",
   "execution_count": null,
   "id": "2b490245-ddc9-4d5a-b92f-39b42a69dffb",
   "metadata": {},
   "outputs": [],
   "source": []
  },
  {
   "cell_type": "code",
   "execution_count": null,
   "id": "b35196ef-791f-4fa4-8c9c-223949862dbd",
   "metadata": {},
   "outputs": [],
   "source": []
  },
  {
   "cell_type": "markdown",
   "id": "b4cde7e7-97a7-4be6-baf2-61bceefa69a6",
   "metadata": {},
   "source": [
    "Remove lakes which are not located in ERA5-Land lake pixels"
   ]
  },
  {
   "cell_type": "code",
   "execution_count": 9,
   "id": "af9c0ddd-e9b8-4336-b151-de38b473c111",
   "metadata": {
    "tags": []
   },
   "outputs": [],
   "source": [
    "df_lake_temp = pd.read_csv(\"/mnt/Data_2tb/laketemp_bias/era5land/air_temp.csv\", index_col=0)\n",
    "lake_ids = [int(col) for col in df_lake_temp.columns]"
   ]
  },
  {
   "cell_type": "code",
   "execution_count": 10,
   "id": "c2f183c4-4c4e-472f-9572-ccee004cecbd",
   "metadata": {
    "tags": []
   },
   "outputs": [
    {
     "name": "stderr",
     "output_type": "stream",
     "text": [
      "/home/xinchenh/anaconda3/envs/zonal/lib/python3.11/site-packages/geopandas/array.py:365: UserWarning: Geometry is in a geographic CRS. Results from 'sjoin_nearest' are likely incorrect. Use 'GeoSeries.to_crs()' to re-project geometries to a projected CRS before this operation.\n",
      "\n",
      "  warnings.warn(\n"
     ]
    },
    {
     "data": {
      "text/html": [
       "<div>\n",
       "<style scoped>\n",
       "    .dataframe tbody tr th:only-of-type {\n",
       "        vertical-align: middle;\n",
       "    }\n",
       "\n",
       "    .dataframe tbody tr th {\n",
       "        vertical-align: top;\n",
       "    }\n",
       "\n",
       "    .dataframe thead th {\n",
       "        text-align: right;\n",
       "    }\n",
       "</style>\n",
       "<table border=\"1\" class=\"dataframe\">\n",
       "  <thead>\n",
       "    <tr style=\"text-align: right;\">\n",
       "      <th></th>\n",
       "      <th>NAME</th>\n",
       "      <th>Hylak_id</th>\n",
       "      <th>Depth_avg</th>\n",
       "      <th>Lake_area</th>\n",
       "    </tr>\n",
       "    <tr>\n",
       "      <th>CCI ID</th>\n",
       "      <th></th>\n",
       "      <th></th>\n",
       "      <th></th>\n",
       "      <th></th>\n",
       "    </tr>\n",
       "  </thead>\n",
       "  <tbody>\n",
       "    <tr>\n",
       "      <th>799</th>\n",
       "      <td>Hawizeh marshes</td>\n",
       "      <td>175570</td>\n",
       "      <td>0.6</td>\n",
       "      <td>2.55</td>\n",
       "    </tr>\n",
       "    <tr>\n",
       "      <th>3114</th>\n",
       "      <td>loch Ness</td>\n",
       "      <td>13036</td>\n",
       "      <td>61.9</td>\n",
       "      <td>51.56</td>\n",
       "    </tr>\n",
       "    <tr>\n",
       "      <th>7889</th>\n",
       "      <td>lough Melvin</td>\n",
       "      <td>13375</td>\n",
       "      <td>7.7</td>\n",
       "      <td>20.84</td>\n",
       "    </tr>\n",
       "    <tr>\n",
       "      <th>2516</th>\n",
       "      <td>loch Lomond</td>\n",
       "      <td>13169</td>\n",
       "      <td>34.0</td>\n",
       "      <td>68.45</td>\n",
       "    </tr>\n",
       "    <tr>\n",
       "      <th>12262</th>\n",
       "      <td>loch Leven</td>\n",
       "      <td>13140</td>\n",
       "      <td>4.1</td>\n",
       "      <td>13.26</td>\n",
       "    </tr>\n",
       "    <tr>\n",
       "      <th>...</th>\n",
       "      <td>...</td>\n",
       "      <td>...</td>\n",
       "      <td>...</td>\n",
       "      <td>...</td>\n",
       "    </tr>\n",
       "    <tr>\n",
       "      <th>473</th>\n",
       "      <td>Shishmaref inlet and Ikpek lagoon and  Cowpac...</td>\n",
       "      <td>403015</td>\n",
       "      <td>1.7</td>\n",
       "      <td>0.11</td>\n",
       "    </tr>\n",
       "    <tr>\n",
       "      <th>309</th>\n",
       "      <td>Zzzz</td>\n",
       "      <td>783</td>\n",
       "      <td>0.3</td>\n",
       "      <td>776.39</td>\n",
       "    </tr>\n",
       "    <tr>\n",
       "      <th>141</th>\n",
       "      <td>Baird inlet and Kaghasuk lake</td>\n",
       "      <td>622927</td>\n",
       "      <td>1.9</td>\n",
       "      <td>0.95</td>\n",
       "    </tr>\n",
       "    <tr>\n",
       "      <th>212</th>\n",
       "      <td>Teshekpuk lake</td>\n",
       "      <td>193</td>\n",
       "      <td>4.5</td>\n",
       "      <td>829.95</td>\n",
       "    </tr>\n",
       "    <tr>\n",
       "      <th>170</th>\n",
       "      <td>Selawik lake</td>\n",
       "      <td>19</td>\n",
       "      <td>4.0</td>\n",
       "      <td>1058.07</td>\n",
       "    </tr>\n",
       "  </tbody>\n",
       "</table>\n",
       "<p>2016 rows × 4 columns</p>\n",
       "</div>"
      ],
      "text/plain": [
       "                                                     NAME  Hylak_id  \\\n",
       "CCI ID                                                                \n",
       "799                                       Hawizeh marshes    175570   \n",
       "3114                                            loch Ness     13036   \n",
       "7889                                         lough Melvin     13375   \n",
       "2516                                          loch Lomond     13169   \n",
       "12262                                          loch Leven     13140   \n",
       "...                                                   ...       ...   \n",
       "473      Shishmaref inlet and Ikpek lagoon and  Cowpac...    403015   \n",
       "309                                                  Zzzz       783   \n",
       "141                         Baird inlet and Kaghasuk lake    622927   \n",
       "212                                        Teshekpuk lake       193   \n",
       "170                                          Selawik lake        19   \n",
       "\n",
       "        Depth_avg  Lake_area  \n",
       "CCI ID                        \n",
       "799           0.6       2.55  \n",
       "3114         61.9      51.56  \n",
       "7889          7.7      20.84  \n",
       "2516         34.0      68.45  \n",
       "12262         4.1      13.26  \n",
       "...           ...        ...  \n",
       "473           1.7       0.11  \n",
       "309           0.3     776.39  \n",
       "141           1.9       0.95  \n",
       "212           4.5     829.95  \n",
       "170           4.0    1058.07  \n",
       "\n",
       "[2016 rows x 4 columns]"
      ]
     },
     "execution_count": 10,
     "metadata": {},
     "output_type": "execute_result"
    }
   ],
   "source": [
    "# merge with hydrolake id\n",
    "# select the largest lake area\n",
    "cci_hydrolakes = cci_lakes_gdf.sjoin_nearest(hydrolakes, how = \"left\")\n",
    "cci_hydrolakes = cci_hydrolakes.loc[lake_ids, [\"NAME\", \"Hylak_id\", \"Depth_avg\", \"Lake_area\"]]\n",
    "cci_hydrolakes"
   ]
  },
  {
   "cell_type": "code",
   "execution_count": 11,
   "id": "349bb639-ba0c-41ce-87c5-f0c9cffab291",
   "metadata": {
    "tags": []
   },
   "outputs": [],
   "source": [
    "cci_hydrolakes.to_csv(\"data/cci_lakes_hydrolake_depth.csv\")"
   ]
  }
 ],
 "metadata": {
  "kernelspec": {
   "display_name": "Python [conda env:.conda-laketemp]",
   "language": "python",
   "name": "conda-env-.conda-laketemp-py"
  },
  "language_info": {
   "codemirror_mode": {
    "name": "ipython",
    "version": 3
   },
   "file_extension": ".py",
   "mimetype": "text/x-python",
   "name": "python",
   "nbconvert_exporter": "python",
   "pygments_lexer": "ipython3",
   "version": "3.12.7"
  }
 },
 "nbformat": 4,
 "nbformat_minor": 5
}

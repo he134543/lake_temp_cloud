{
 "cells": [
  {
   "cell_type": "code",
   "execution_count": 1,
   "id": "d346c744-3d0b-4beb-aeba-338d08f8b6b0",
   "metadata": {
    "tags": []
   },
   "outputs": [
    {
     "name": "stderr",
     "output_type": "stream",
     "text": [
      "/work/xinchenhe_umass_edu/.conda/envs/laketemp/lib/python3.12/site-packages/tqdm/auto.py:21: TqdmWarning: IProgress not found. Please update jupyter and ipywidgets. See https://ipywidgets.readthedocs.io/en/stable/user_install.html\n",
      "  from .autonotebook import tqdm as notebook_tqdm\n"
     ]
    }
   ],
   "source": [
    "import numpy as np\n",
    "import pandas as pd\n",
    "import matplotlib.pyplot as plt\n",
    "from air2waterpy import air2water\n",
    "from air2waterpy.metrics import calc_mse, calc_nse\n",
    "import os\n",
    "os.chdir(\"/work/pi_kandread_umass_edu/lake_temp_bias/satbias_model/satlswt\")\n",
    "from p_tqdm import p_map"
   ]
  },
  {
   "cell_type": "code",
   "execution_count": 2,
   "id": "7b5a5e7e-8817-47b0-8a44-02f2c2d92595",
   "metadata": {},
   "outputs": [],
   "source": [
    "cci_lake_id = 300015151"
   ]
  },
  {
   "cell_type": "code",
   "execution_count": 3,
   "id": "65d2edf9-f0bc-4766-ba05-e0b3b9a40648",
   "metadata": {},
   "outputs": [],
   "source": [
    "# Global configuration\n",
    "simulation_period = pd.date_range(\"2000-01-01\", \"2023-12-31\")\n",
    "param_dir_full = \"params/a2w_param_full\"\n",
    "# sim_dir = \"params/a2w_full_sim\"\n",
    "param_dir_cloud = \"params/a2w_param_cloud\"\n",
    "\n",
    "# weather data\n",
    "df_airtemp = pd.read_csv(\"/nas/cee-hydro/laketemp_bias/era5land/air_temp.csv\", \n",
    "                         index_col=0, parse_dates=True)\n",
    "# observation water temperature\n",
    "df_tw = pd.read_csv(\"/nas/cee-hydro/laketemp_bias/era5land/water_temp.csv\", \n",
    "                    index_col=0, parse_dates=True)\n",
    "# hydrolake depth\n",
    "hydrolake = pd.read_csv(\"data/cci_lakes_hydrolake_depth.csv\", index_col = 0)\n",
    "# # list of cci lakes. Some lakes don't have ERA5-Land data, which are excluded\n",
    "# cci_lake_list = hydrolake.index.to_numpy().astype(np.int64)"
   ]
  },
  {
   "cell_type": "code",
   "execution_count": 4,
   "id": "255eb790-1fd9-4c56-9318-e7691ee22781",
   "metadata": {},
   "outputs": [],
   "source": [
    "def load_data(lake_id,\n",
    "             ):\n",
    "    # load air temperature\n",
    "    ta = df_airtemp.loc[:, str(lake_id)]\n",
    "    ta.index.name = \"date\"\n",
    "    # load water temperature observation\n",
    "    tw_obs = df_tw.loc[:, str(lake_id)]\n",
    "    tw_obs.index.name = \"date\"\n",
    "    # calculate daily mean temperature from tmax and tmin\n",
    "    df = pd.concat([ta, tw_obs], axis = 1)\n",
    "    df.columns = [\"ta\", \"tw_obs\"]\n",
    "    # set negative temperature as 0 as the air2water model\n",
    "    df[\"tw_obs\"] = df[\"tw_obs\"].clip(0,999)\n",
    "    \n",
    "    return df"
   ]
  },
  {
   "cell_type": "code",
   "execution_count": 5,
   "id": "63cab0c0-0e4a-4e6d-b83a-79d57111d2c9",
   "metadata": {},
   "outputs": [],
   "source": [
    "def get_params(lake_id, param_dir):\n",
    "    param_df = pd.read_csv(f\"{param_dir}/{lake_id}.csv\", \n",
    "                           index_col = 0, \n",
    "                           usecols = [\"Unnamed: 0\", \"a1\", \"a2\", \"a3\", \"a4\", \"a5\", \"a6\"]\n",
    "                          )\n",
    "    param_df.index.name = \"ensemble_id\"\n",
    "    return param_df\n",
    "# get_params(1109)"
   ]
  },
  {
   "cell_type": "code",
   "execution_count": 6,
   "id": "a02977dd-c800-41d2-b8f3-66d5844aaaaa",
   "metadata": {},
   "outputs": [],
   "source": [
    "def simulate_single(lake_id,\n",
    "                    param_dir,\n",
    "                    ensemble_id, # indicate which ensemble\n",
    "                    sim_period = pd.date_range(\"2000-01-01\", \"2023-12-31\"), # whole period\n",
    "                    tw_init = 0, # set Jan-01 temperature as 0\n",
    "                    tw_ice = 0,\n",
    "                    th = 4.0\n",
    "                    ):\n",
    "    \"\"\"\n",
    "    This function initialize a air2water model (6p)\n",
    "    load air temperature\n",
    "    load calibrated parameter \n",
    "    simulate water temperature.\n",
    "    -- ta has to be the same length with sim_period\n",
    "    \"\"\"\n",
    "    # initialize a model\n",
    "    model = air2water(version=\"6p\")\n",
    "    \n",
    "    # load air temp\n",
    "    ta = load_data(lake_id).ta\n",
    "    \n",
    "    # parameter dataframe\n",
    "    param_df = get_params(lake_id, param_dir)\n",
    "    \n",
    "    # based on the ensemble id, read the parameter dict\n",
    "    param_dict = param_df.iloc[ensemble_id].to_dict()\n",
    "    \n",
    "    # read the dict parameter\n",
    "    model.load_params(param_dict)\n",
    "    \n",
    "    # simulate water temperature\n",
    "    tw_sim = model.simulate(ta,\n",
    "                            sim_period,\n",
    "                            th = th,\n",
    "                            tw_init = tw_init,\n",
    "                            tw_ice = tw_ice, \n",
    "                            )\n",
    "    tw_sim.columns = [f\"tw_sim_{ensemble_id}\"]\n",
    "    return tw_sim"
   ]
  },
  {
   "cell_type": "code",
   "execution_count": 7,
   "id": "7bab7a6b-9194-4b00-9aac-5b8c1e8770a7",
   "metadata": {},
   "outputs": [],
   "source": [
    "# simulate_single(1109, ensemble_id = 0)"
   ]
  },
  {
   "cell_type": "code",
   "execution_count": 8,
   "id": "7f0c439f-4361-428e-9ab8-6f1df08f244f",
   "metadata": {},
   "outputs": [],
   "source": [
    "def simulate_ensemble(lake_id, \n",
    "                      param_dir, \n",
    "                      ensemble_num = 100,\n",
    "                      save_dir = None,\n",
    "                      sim_period = pd.date_range(\"2000-01-01\", \"2023-12-31\"), # whole period\n",
    "                      tw_init = 0, # set Jan-01 temperature as 0\n",
    "                      tw_ice = 0,\n",
    "                      th = 4.0,\n",
    "                      ):\n",
    "    tw_sim_df = pd.DataFrame([])\n",
    "    for ensemble_id in range(ensemble_num):\n",
    "        tw_sim = simulate_single(lake_id, \n",
    "                                 param_dir,\n",
    "                        ensemble_id, # indicate which ensemble\n",
    "                        sim_period = sim_period, # whole period\n",
    "                        tw_init = tw_init, # set Jan-01 temperature as 0\n",
    "                        tw_ice = tw_ice,\n",
    "                        th = th)\n",
    "        tw_sim_df = pd.concat([tw_sim_df, tw_sim], axis = 1)\n",
    "        \n",
    "    if save_dir == None:\n",
    "        return tw_sim_df\n",
    "    else:\n",
    "        tw_sim_df.to_csv(f\"{sim_dir}/{lake_id}.csv\")\n",
    "        return"
   ]
  },
  {
   "cell_type": "code",
   "execution_count": 9,
   "id": "c9f1b8c3-a956-4537-bd1a-e42a1e7e4e4a",
   "metadata": {},
   "outputs": [],
   "source": [
    "tw_sim_full = simulate_ensemble(cci_lake_id, param_dir = param_dir_full, ensemble_num = 5, save_dir=None)\n",
    "tw_sim_cloud = simulate_ensemble(cci_lake_id, param_dir = param_dir_cloud, ensemble_num = 5, save_dir=None)"
   ]
  },
  {
   "cell_type": "code",
   "execution_count": null,
   "id": "42aef8b8-427e-4a69-b7bd-176cbfbd60d0",
   "metadata": {},
   "outputs": [],
   "source": []
  },
  {
   "cell_type": "code",
   "execution_count": 15,
   "id": "304819a7-fdc2-4a8e-a7fa-b5d5c72bf147",
   "metadata": {},
   "outputs": [
    {
     "data": {
      "text/plain": [
       "tw_sim_0    28.487388\n",
       "tw_sim_1    28.424234\n",
       "tw_sim_2    29.015997\n",
       "tw_sim_3    28.407145\n",
       "tw_sim_4    28.223843\n",
       "dtype: float64"
      ]
     },
     "execution_count": 15,
     "metadata": {},
     "output_type": "execute_result"
    }
   ],
   "source": [
    "tw_sim_full.groupby(tw_sim_full.index.year).quantile(q=0.99).mean()"
   ]
  },
  {
   "cell_type": "code",
   "execution_count": 14,
   "id": "a4391420-c54d-41d3-9a2e-e1f464ea8743",
   "metadata": {},
   "outputs": [
    {
     "data": {
      "text/plain": [
       "tw_sim_0    29.561572\n",
       "tw_sim_1    29.781667\n",
       "tw_sim_2    30.243307\n",
       "tw_sim_3    29.768511\n",
       "tw_sim_4    29.773310\n",
       "dtype: float64"
      ]
     },
     "execution_count": 14,
     "metadata": {},
     "output_type": "execute_result"
    }
   ],
   "source": [
    "tw_sim_cloud.groupby(tw_sim_cloud.index.year).quantile(q=0.99).mean()"
   ]
  }
 ],
 "metadata": {
  "kernelspec": {
   "display_name": "Python [conda env:.conda-laketemp]",
   "language": "python",
   "name": "conda-env-.conda-laketemp-py"
  },
  "language_info": {
   "codemirror_mode": {
    "name": "ipython",
    "version": 3
   },
   "file_extension": ".py",
   "mimetype": "text/x-python",
   "name": "python",
   "nbconvert_exporter": "python",
   "pygments_lexer": "ipython3",
   "version": "3.12.7"
  }
 },
 "nbformat": 4,
 "nbformat_minor": 5
}

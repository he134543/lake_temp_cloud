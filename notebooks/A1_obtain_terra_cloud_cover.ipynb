{
 "cells": [
  {
   "cell_type": "code",
   "execution_count": 1,
   "id": "73b01133-a742-4f03-8e0e-24e03e5e1cb5",
   "metadata": {
    "tags": []
   },
   "outputs": [],
   "source": [
    "import numpy as np\n",
    "import pandas as pd\n",
    "import ee\n",
    "import geemap\n",
    "import os\n",
    "import glob"
   ]
  },
  {
   "cell_type": "code",
   "execution_count": 2,
   "id": "fd3a41e6-bcbf-4356-9156-acc20a3a195c",
   "metadata": {
    "tags": []
   },
   "outputs": [
    {
     "data": {
      "text/html": [
       "\n",
       "            <style>\n",
       "                .geemap-dark {\n",
       "                    --jp-widgets-color: white;\n",
       "                    --jp-widgets-label-color: white;\n",
       "                    --jp-ui-font-color1: white;\n",
       "                    --jp-layout-color2: #454545;\n",
       "                    background-color: #383838;\n",
       "                }\n",
       "\n",
       "                .geemap-dark .jupyter-button {\n",
       "                    --jp-layout-color3: #383838;\n",
       "                }\n",
       "\n",
       "                .geemap-colab {\n",
       "                    background-color: var(--colab-primary-surface-color, white);\n",
       "                }\n",
       "\n",
       "                .geemap-colab .jupyter-button {\n",
       "                    --jp-layout-color3: var(--colab-primary-surface-color, white);\n",
       "                }\n",
       "            </style>\n",
       "            "
      ],
      "text/plain": [
       "<IPython.core.display.HTML object>"
      ]
     },
     "metadata": {},
     "output_type": "display_data"
    }
   ],
   "source": [
    "ee.Authenticate()\n",
    "ee.Initialize(project = \"ee-sarice\")"
   ]
  },
  {
   "cell_type": "code",
   "execution_count": 3,
   "id": "d3b8d1a4-8a51-4c42-ab01-4c32a192fa42",
   "metadata": {
    "tags": []
   },
   "outputs": [
    {
     "data": {
      "text/html": [
       "\n",
       "            <style>\n",
       "                .geemap-dark {\n",
       "                    --jp-widgets-color: white;\n",
       "                    --jp-widgets-label-color: white;\n",
       "                    --jp-ui-font-color1: white;\n",
       "                    --jp-layout-color2: #454545;\n",
       "                    background-color: #383838;\n",
       "                }\n",
       "\n",
       "                .geemap-dark .jupyter-button {\n",
       "                    --jp-layout-color3: #383838;\n",
       "                }\n",
       "\n",
       "                .geemap-colab {\n",
       "                    background-color: var(--colab-primary-surface-color, white);\n",
       "                }\n",
       "\n",
       "                .geemap-colab .jupyter-button {\n",
       "                    --jp-layout-color3: var(--colab-primary-surface-color, white);\n",
       "                }\n",
       "            </style>\n",
       "            "
      ],
      "text/plain": [
       "<IPython.core.display.HTML object>"
      ]
     },
     "metadata": {},
     "output_type": "display_data"
    }
   ],
   "source": [
    "# load cci lake points\n",
    "# assign a 5km buffer --> ERA5-Land pixel size\n",
    "cci_lakes = ee.FeatureCollection(\"projects/ee-sarice/assets/CCI_Lakes\").map(lambda img: img.buffer(5 * 1000))"
   ]
  },
  {
   "cell_type": "code",
   "execution_count": 4,
   "id": "bf087264-8bf9-458e-acaf-8cec48b6cc6e",
   "metadata": {
    "tags": []
   },
   "outputs": [
    {
     "data": {
      "text/html": [
       "\n",
       "            <style>\n",
       "                .geemap-dark {\n",
       "                    --jp-widgets-color: white;\n",
       "                    --jp-widgets-label-color: white;\n",
       "                    --jp-ui-font-color1: white;\n",
       "                    --jp-layout-color2: #454545;\n",
       "                    background-color: #383838;\n",
       "                }\n",
       "\n",
       "                .geemap-dark .jupyter-button {\n",
       "                    --jp-layout-color3: #383838;\n",
       "                }\n",
       "\n",
       "                .geemap-colab {\n",
       "                    background-color: var(--colab-primary-surface-color, white);\n",
       "                }\n",
       "\n",
       "                .geemap-colab .jupyter-button {\n",
       "                    --jp-layout-color3: var(--colab-primary-surface-color, white);\n",
       "                }\n",
       "            </style>\n",
       "            "
      ],
      "text/plain": [
       "<IPython.core.display.HTML object>"
      ]
     },
     "metadata": {},
     "output_type": "display_data"
    }
   ],
   "source": [
    "# CCI lake ids\n",
    "cci_lake_ids = cci_lakes.aggregate_array(\"CCI ID\").getInfo()"
   ]
  },
  {
   "cell_type": "code",
   "execution_count": 5,
   "id": "52cdb555-a1d1-4fb6-9c80-b34d40407d2f",
   "metadata": {
    "tags": []
   },
   "outputs": [
    {
     "data": {
      "text/html": [
       "\n",
       "            <style>\n",
       "                .geemap-dark {\n",
       "                    --jp-widgets-color: white;\n",
       "                    --jp-widgets-label-color: white;\n",
       "                    --jp-ui-font-color1: white;\n",
       "                    --jp-layout-color2: #454545;\n",
       "                    background-color: #383838;\n",
       "                }\n",
       "\n",
       "                .geemap-dark .jupyter-button {\n",
       "                    --jp-layout-color3: #383838;\n",
       "                }\n",
       "\n",
       "                .geemap-colab {\n",
       "                    background-color: var(--colab-primary-surface-color, white);\n",
       "                }\n",
       "\n",
       "                .geemap-colab .jupyter-button {\n",
       "                    --jp-layout-color3: var(--colab-primary-surface-color, white);\n",
       "                }\n",
       "            </style>\n",
       "            "
      ],
      "text/plain": [
       "<IPython.core.display.HTML object>"
      ]
     },
     "metadata": {},
     "output_type": "display_data"
    }
   ],
   "source": [
    "# In order to be consistent\n",
    "years = list(range(2003, 2024))"
   ]
  },
  {
   "cell_type": "code",
   "execution_count": 6,
   "id": "bf962988-cec4-43f9-9cbf-486702f501a3",
   "metadata": {
    "tags": []
   },
   "outputs": [
    {
     "data": {
      "text/html": [
       "\n",
       "            <style>\n",
       "                .geemap-dark {\n",
       "                    --jp-widgets-color: white;\n",
       "                    --jp-widgets-label-color: white;\n",
       "                    --jp-ui-font-color1: white;\n",
       "                    --jp-layout-color2: #454545;\n",
       "                    background-color: #383838;\n",
       "                }\n",
       "\n",
       "                .geemap-dark .jupyter-button {\n",
       "                    --jp-layout-color3: #383838;\n",
       "                }\n",
       "\n",
       "                .geemap-colab {\n",
       "                    background-color: var(--colab-primary-surface-color, white);\n",
       "                }\n",
       "\n",
       "                .geemap-colab .jupyter-button {\n",
       "                    --jp-layout-color3: var(--colab-primary-surface-color, white);\n",
       "                }\n",
       "            </style>\n",
       "            "
      ],
      "text/plain": [
       "<IPython.core.display.HTML object>"
      ]
     },
     "metadata": {},
     "output_type": "display_data"
    }
   ],
   "source": [
    "out_dir = \"/mnt/Data_2tb/laketemp_bias/modis_cloud/raw\""
   ]
  },
  {
   "cell_type": "code",
   "execution_count": 7,
   "id": "db8de44d-c1bb-457e-9153-801872236a1e",
   "metadata": {
    "tags": []
   },
   "outputs": [
    {
     "data": {
      "text/html": [
       "\n",
       "            <style>\n",
       "                .geemap-dark {\n",
       "                    --jp-widgets-color: white;\n",
       "                    --jp-widgets-label-color: white;\n",
       "                    --jp-ui-font-color1: white;\n",
       "                    --jp-layout-color2: #454545;\n",
       "                    background-color: #383838;\n",
       "                }\n",
       "\n",
       "                .geemap-dark .jupyter-button {\n",
       "                    --jp-layout-color3: #383838;\n",
       "                }\n",
       "\n",
       "                .geemap-colab {\n",
       "                    background-color: var(--colab-primary-surface-color, white);\n",
       "                }\n",
       "\n",
       "                .geemap-colab .jupyter-button {\n",
       "                    --jp-layout-color3: var(--colab-primary-surface-color, white);\n",
       "                }\n",
       "            </style>\n",
       "            "
      ],
      "text/plain": [
       "<IPython.core.display.HTML object>"
      ]
     },
     "metadata": {},
     "output_type": "display_data"
    }
   ],
   "source": [
    "# function from https://spatialthoughts.com/2021/08/19/qa-bands-bitmasks-gee/\n",
    "def bitwiseExtract(inputBit,\n",
    "                  fromBit,\n",
    "                  toBit):\n",
    "    maskSize = ee.Number(1).add(toBit).subtract(fromBit)\n",
    "    mask = ee.Number(1).leftShift(maskSize).subtract(1)\n",
    "    return inputBit.rightShift(fromBit).bitwiseAnd(mask)"
   ]
  },
  {
   "cell_type": "code",
   "execution_count": 8,
   "id": "7d7d0a4c-5ab8-4428-8276-f099cff6a1b1",
   "metadata": {
    "tags": []
   },
   "outputs": [
    {
     "data": {
      "text/html": [
       "\n",
       "            <style>\n",
       "                .geemap-dark {\n",
       "                    --jp-widgets-color: white;\n",
       "                    --jp-widgets-label-color: white;\n",
       "                    --jp-ui-font-color1: white;\n",
       "                    --jp-layout-color2: #454545;\n",
       "                    background-color: #383838;\n",
       "                }\n",
       "\n",
       "                .geemap-dark .jupyter-button {\n",
       "                    --jp-layout-color3: #383838;\n",
       "                }\n",
       "\n",
       "                .geemap-colab {\n",
       "                    background-color: var(--colab-primary-surface-color, white);\n",
       "                }\n",
       "\n",
       "                .geemap-colab .jupyter-button {\n",
       "                    --jp-layout-color3: var(--colab-primary-surface-color, white);\n",
       "                }\n",
       "            </style>\n",
       "            "
      ],
      "text/plain": [
       "<IPython.core.display.HTML object>"
      ]
     },
     "metadata": {},
     "output_type": "display_data"
    }
   ],
   "source": [
    "# def extract_cloud_qc_flag(img):\n",
    "#     # extract bit from 0-1 (data quality) and 6-7 (average error)\n",
    "#     # Bits 0-1: 0: clear, 1: cloudy, 2: mixed, 3: not set, assumed clear\n",
    "#     qc_img = bitwiseExtract(img.select(\"state_1km\"), 0, 1).rename(\"qcflag\")\n",
    "#     # remove the bit bands\n",
    "#     return qc_img\n",
    "\n",
    "def extract_cloud_mask(img):\n",
    "    # extract bit from 0-1 (data quality) and 6-7 (average error)\n",
    "    # Bits 0-1: 0: clear, 1: cloudy, 2: mixed, 3: not set, assumed clear\n",
    "    total = img.select(\"sur_refl_b01\").multiply(0).add(1).rename(\"total\")\n",
    "    cloudmask = bitwiseExtract(img.select(\"state_1km\"), 0, 1).eq(1).rename(\"cloud\")\n",
    "    output_mask = total.addBands(cloudmask)\n",
    "    # remove the bit bands\n",
    "    return output_mask"
   ]
  },
  {
   "cell_type": "code",
   "execution_count": 9,
   "id": "83de38dc-0043-4624-8538-c9b5d262bd51",
   "metadata": {
    "collapsed": true,
    "jupyter": {
     "outputs_hidden": true
    },
    "tags": []
   },
   "outputs": [
    {
     "data": {
      "text/html": [
       "\n",
       "            <style>\n",
       "                .geemap-dark {\n",
       "                    --jp-widgets-color: white;\n",
       "                    --jp-widgets-label-color: white;\n",
       "                    --jp-ui-font-color1: white;\n",
       "                    --jp-layout-color2: #454545;\n",
       "                    background-color: #383838;\n",
       "                }\n",
       "\n",
       "                .geemap-dark .jupyter-button {\n",
       "                    --jp-layout-color3: #383838;\n",
       "                }\n",
       "\n",
       "                .geemap-colab {\n",
       "                    background-color: var(--colab-primary-surface-color, white);\n",
       "                }\n",
       "\n",
       "                .geemap-colab .jupyter-button {\n",
       "                    --jp-layout-color3: var(--colab-primary-surface-color, white);\n",
       "                }\n",
       "            </style>\n",
       "            "
      ],
      "text/plain": [
       "<IPython.core.display.HTML object>"
      ]
     },
     "metadata": {},
     "output_type": "display_data"
    },
    {
     "name": "stdout",
     "output_type": "stream",
     "text": [
      "Computing statistics ...\n",
      "Generating URL ...\n",
      "Downloading data from https://earthengine.googleapis.com/v1/projects/ee-sarice/tables/ebcb4b6d33347078aff07994f016d3ab-012763a9952087c86a3e0e15e3006d1e:getFeatures\n",
      "Please wait ...\n",
      "Data downloaded to /mnt/Data_2tb/laketemp_bias/modis_cloud/raw/2003_terra_cloud.csv\n",
      "Computing statistics ...\n",
      "Generating URL ...\n",
      "Downloading data from https://earthengine.googleapis.com/v1/projects/ee-sarice/tables/4fa1044b479e9529f64e05000586cc60-07b121fe0bf6be7d7290a00b1ac09684:getFeatures\n",
      "Please wait ...\n",
      "Data downloaded to /mnt/Data_2tb/laketemp_bias/modis_cloud/raw/2004_terra_cloud.csv\n",
      "Computing statistics ...\n",
      "Generating URL ...\n",
      "Downloading data from https://earthengine.googleapis.com/v1/projects/ee-sarice/tables/9fa8c7536fc5e46caf8627214e512551-6b1f3f8d7d72cff0a29f8e689766c988:getFeatures\n",
      "Please wait ...\n",
      "Data downloaded to /mnt/Data_2tb/laketemp_bias/modis_cloud/raw/2005_terra_cloud.csv\n",
      "Computing statistics ...\n",
      "Generating URL ...\n",
      "Downloading data from https://earthengine.googleapis.com/v1/projects/ee-sarice/tables/606303ad9a7c9d2b7a8c221bf4adc097-7b9549690fada918917458d780f54164:getFeatures\n",
      "Please wait ...\n",
      "Data downloaded to /mnt/Data_2tb/laketemp_bias/modis_cloud/raw/2006_terra_cloud.csv\n",
      "Computing statistics ...\n",
      "Generating URL ...\n",
      "Downloading data from https://earthengine.googleapis.com/v1/projects/ee-sarice/tables/819b463ea56b5219523646ba801b9e7f-0b30ce1fec2b324fce10f3adc79d98cd:getFeatures\n",
      "Please wait ...\n",
      "Data downloaded to /mnt/Data_2tb/laketemp_bias/modis_cloud/raw/2007_terra_cloud.csv\n",
      "Computing statistics ...\n",
      "Generating URL ...\n",
      "Downloading data from https://earthengine.googleapis.com/v1/projects/ee-sarice/tables/5a39ee01e0bbbb7fe6cbf875c0f81bee-d43cc10542bb16e9ff56f0b256b67c7d:getFeatures\n",
      "Please wait ...\n",
      "Data downloaded to /mnt/Data_2tb/laketemp_bias/modis_cloud/raw/2008_terra_cloud.csv\n",
      "Computing statistics ...\n",
      "Generating URL ...\n",
      "Downloading data from https://earthengine.googleapis.com/v1/projects/ee-sarice/tables/2bbb4867211bf16db7b2b404b6f526bf-f4507a9588ba01359c3ad484f33ba618:getFeatures\n",
      "Please wait ...\n",
      "Data downloaded to /mnt/Data_2tb/laketemp_bias/modis_cloud/raw/2009_terra_cloud.csv\n",
      "Computing statistics ...\n",
      "Generating URL ...\n",
      "Downloading data from https://earthengine.googleapis.com/v1/projects/ee-sarice/tables/0bef554da3c38cf7f5719c27194558c8-85ed12ea8de21ececedef7423e893063:getFeatures\n",
      "Please wait ...\n",
      "Data downloaded to /mnt/Data_2tb/laketemp_bias/modis_cloud/raw/2010_terra_cloud.csv\n",
      "Computing statistics ...\n",
      "Generating URL ...\n",
      "Downloading data from https://earthengine.googleapis.com/v1/projects/ee-sarice/tables/1c957d87f9a1c472632e9af29591d2d1-e456827ac82ca64f46abb209108f0b1e:getFeatures\n",
      "Please wait ...\n",
      "Data downloaded to /mnt/Data_2tb/laketemp_bias/modis_cloud/raw/2011_terra_cloud.csv\n",
      "Computing statistics ...\n",
      "Generating URL ...\n",
      "Downloading data from https://earthengine.googleapis.com/v1/projects/ee-sarice/tables/81d5a58612d18ae7b2bf4bc2a421a1de-dcc4ba46ecaf68979f73ed89e643f2d6:getFeatures\n",
      "Please wait ...\n",
      "Data downloaded to /mnt/Data_2tb/laketemp_bias/modis_cloud/raw/2012_terra_cloud.csv\n",
      "Computing statistics ...\n",
      "Generating URL ...\n",
      "Downloading data from https://earthengine.googleapis.com/v1/projects/ee-sarice/tables/ff51f8390c0d7a5af2ded0c68125d584-852f0cd742f97f6f92181bd97a4097cc:getFeatures\n",
      "Please wait ...\n",
      "Data downloaded to /mnt/Data_2tb/laketemp_bias/modis_cloud/raw/2013_terra_cloud.csv\n",
      "Computing statistics ...\n",
      "Generating URL ...\n",
      "Downloading data from https://earthengine.googleapis.com/v1/projects/ee-sarice/tables/d26dac73a4f52d65b2d3e9270524f0ff-7c16e92f509cb96392cae14d499c3214:getFeatures\n",
      "Please wait ...\n",
      "Data downloaded to /mnt/Data_2tb/laketemp_bias/modis_cloud/raw/2014_terra_cloud.csv\n",
      "Computing statistics ...\n",
      "Generating URL ...\n",
      "Downloading data from https://earthengine.googleapis.com/v1/projects/ee-sarice/tables/db4e840caebd8aad51d015b239b84ae6-0adaeb035165fedfcd641b62626db507:getFeatures\n",
      "Please wait ...\n",
      "Data downloaded to /mnt/Data_2tb/laketemp_bias/modis_cloud/raw/2015_terra_cloud.csv\n",
      "Computing statistics ...\n",
      "Generating URL ...\n",
      "Downloading data from https://earthengine.googleapis.com/v1/projects/ee-sarice/tables/999c28964dd0a70f47a322ec9a9e25c2-49815559316d5ffaa55795956d220d49:getFeatures\n",
      "Please wait ...\n",
      "Data downloaded to /mnt/Data_2tb/laketemp_bias/modis_cloud/raw/2016_terra_cloud.csv\n",
      "Computing statistics ...\n",
      "Generating URL ...\n",
      "Downloading data from https://earthengine.googleapis.com/v1/projects/ee-sarice/tables/6d4bf0a22397141bad14346a8f44be51-fd065a294938bd267911e6bacf7799ba:getFeatures\n",
      "Please wait ...\n",
      "Data downloaded to /mnt/Data_2tb/laketemp_bias/modis_cloud/raw/2017_terra_cloud.csv\n",
      "Computing statistics ...\n",
      "Generating URL ...\n",
      "Downloading data from https://earthengine.googleapis.com/v1/projects/ee-sarice/tables/c59df2c9e941042355f67c899f4fe290-13c6c430fc05e061bfcf6efeb50b96a6:getFeatures\n",
      "Please wait ...\n",
      "Data downloaded to /mnt/Data_2tb/laketemp_bias/modis_cloud/raw/2018_terra_cloud.csv\n",
      "Computing statistics ...\n",
      "Generating URL ...\n",
      "Downloading data from https://earthengine.googleapis.com/v1/projects/ee-sarice/tables/6a0d04ccb2be2790d6d7fd2d642767c7-8286fe6cff4c63eacd3600be81fb6d71:getFeatures\n",
      "Please wait ...\n",
      "Data downloaded to /mnt/Data_2tb/laketemp_bias/modis_cloud/raw/2019_terra_cloud.csv\n",
      "Computing statistics ...\n",
      "Generating URL ...\n",
      "Downloading data from https://earthengine.googleapis.com/v1/projects/ee-sarice/tables/1c7a15b1c2dce1259a200d395f079831-06c2f50537d72242a77375005f0a9847:getFeatures\n",
      "Please wait ...\n",
      "Data downloaded to /mnt/Data_2tb/laketemp_bias/modis_cloud/raw/2020_terra_cloud.csv\n",
      "Computing statistics ...\n",
      "Generating URL ...\n",
      "Downloading data from https://earthengine.googleapis.com/v1/projects/ee-sarice/tables/957643d6ddfa4c4945f90e97a658f76d-e29a67c934fd693c1dd7490e9990f346:getFeatures\n",
      "Please wait ...\n",
      "Data downloaded to /mnt/Data_2tb/laketemp_bias/modis_cloud/raw/2021_terra_cloud.csv\n",
      "Computing statistics ...\n",
      "Generating URL ...\n",
      "Downloading data from https://earthengine.googleapis.com/v1/projects/ee-sarice/tables/a31497a749a73e2c2cb73b3634dd4582-57b9d777ae5cf6b65a84191761b6760e:getFeatures\n",
      "Please wait ...\n",
      "Data downloaded to /mnt/Data_2tb/laketemp_bias/modis_cloud/raw/2022_terra_cloud.csv\n",
      "Computing statistics ...\n",
      "Generating URL ...\n",
      "Downloading data from https://earthengine.googleapis.com/v1/projects/ee-sarice/tables/33302c7feacae6f91c28ca8575d743c6-9fa8ac96eaa7da751c6b6c572f26a37f:getFeatures\n",
      "Please wait ...\n",
      "Data downloaded to /mnt/Data_2tb/laketemp_bias/modis_cloud/raw/2023_terra_cloud.csv\n"
     ]
    }
   ],
   "source": [
    "for yr in years:\n",
    "    # Load MODIS Terra and Aqua\n",
    "    terra = ee.ImageCollection(\"MODIS/061/MOD09GA\").filterDate(f\"{yr}-01-01\", f\"{yr+1}-01-01\")\n",
    "    # aqua = ee.ImageCollection(\"MODIS/061/MYD09GA\").filterDate(f\"{yr}-01-01\", f\"{yr+1}-01-01\")\n",
    "    \n",
    "    # extract cloud mask\n",
    "    terra_cloud_mask = terra.map(extract_cloud_mask)\n",
    "    # aqua_cloud_mask = aqua.map(extract_cloud_mask)\n",
    "    \n",
    "    # extract the count of cloud and total pixel\n",
    "    geemap.zonal_statistics(terra_cloud_mask.toBands(),\n",
    "                            cci_lakes,\n",
    "                            f\"{out_dir}/{yr}_terra_cloud.csv\",\n",
    "                            statistics_type='SUM',\n",
    "                            scale = 1000,\n",
    "                           )"
   ]
  }
 ],
 "metadata": {
  "kernelspec": {
   "display_name": "Python [conda env:lakeice]",
   "language": "python",
   "name": "conda-env-lakeice-py"
  },
  "language_info": {
   "codemirror_mode": {
    "name": "ipython",
    "version": 3
   },
   "file_extension": ".py",
   "mimetype": "text/x-python",
   "name": "python",
   "nbconvert_exporter": "python",
   "pygments_lexer": "ipython3",
   "version": "3.11.5"
  }
 },
 "nbformat": 4,
 "nbformat_minor": 5
}
